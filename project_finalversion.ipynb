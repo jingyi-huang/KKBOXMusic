{
 "cells": [
  {
   "cell_type": "code",
   "execution_count": 1,
   "metadata": {
    "collapsed": true
   },
   "outputs": [],
   "source": [
    "import numpy as np # linear algebra\n",
    "import pandas as pd # data processing, CSV file I/O (e.g. pd.read_csv)\n",
    "import lightgbm as lgb\n",
    "from sklearn.metrics import classification_report\n",
    "from sklearn.metrics import accuracy_score\n",
    "from sklearn.metrics import confusion_matrix\n",
    "from matplotlib import pyplot as plt \n",
    "import time\n",
    "from sklearn.metrics import roc_curve, auc\n",
    "from sklearn.multiclass import OneVsRestClassifier"
   ]
  },
  {
   "cell_type": "code",
   "execution_count": 2,
   "metadata": {},
   "outputs": [
    {
     "name": "stdout",
     "output_type": "stream",
     "text": [
      "Loading data...\n"
     ]
    }
   ],
   "source": [
    "print('Loading data...')\n",
    "\n",
    "train = pd.read_csv('train.csv')\n",
    "test = pd.read_csv('test.csv')\n",
    "\n",
    "songs = pd.read_csv('songs.csv')\n",
    "\n",
    "members = pd.read_csv('members.csv', parse_dates=['registration_init_time','expiration_date'])\n",
    "\n",
    "train = train.merge(songs, on='song_id', how='left')\n",
    "\n",
    "songs_extra = pd.read_csv('song_extra_info.csv')\n",
    "\n",
    "test = test.merge(songs, on='song_id', how='left')"
   ]
  },
  {
   "cell_type": "code",
   "execution_count": 4,
   "metadata": {},
   "outputs": [
    {
     "name": "stderr",
     "output_type": "stream",
     "text": [
      "/Users/xiejingran/anaconda/lib/python3.6/site-packages/ipykernel_launcher.py:1: SettingWithCopyWarning: \n",
      "A value is trying to be set on a copy of a slice from a DataFrame\n",
      "\n",
      "See the caveats in the documentation: http://pandas.pydata.org/pandas-docs/stable/indexing.html#indexing-view-versus-copy\n",
      "  \"\"\"Entry point for launching an IPython kernel.\n"
     ]
    }
   ],
   "source": [
    "members['bd'][members['bd'] < 5] = 0\n",
    "\n",
    "def Classify_Age(x):\n",
    "    if(x == 0 or x == 105):\n",
    "        return \"0\"\n",
    "    if(x>= 13 and x<=22):\n",
    "        return \"13-22\"\n",
    "    if(x>=23 and x<=27):\n",
    "        return \"23-27\"\n",
    "    if(x>=28 and x<=34):\n",
    "        return \"28-34\"\n",
    "    if(x>=35):\n",
    "        return \"above 35\"\n",
    "    \n",
    "members['AgeClass'] = members['bd'].apply(Classify_Age)\n",
    "members['membership_days'] = members['expiration_date'].subtract(members['registration_init_time']).dt.days.astype(int)\n",
    "\n",
    "members['registration_year'] = members['registration_init_time'].dt.year\n",
    "members['registration_month'] = members['registration_init_time'].dt.month\n",
    "members['registration_date'] = members['registration_init_time'].dt.day\n",
    "\n",
    "members['expiration_year'] = members['expiration_date'].dt.year\n",
    "members['expiration_month'] = members['expiration_date'].dt.month\n",
    "members['expiration_date'] = members['expiration_date'].dt.day\n",
    "members = members.drop(['registration_init_time'], axis=1)"
   ]
  },
  {
   "cell_type": "code",
   "execution_count": 6,
   "metadata": {
    "collapsed": true
   },
   "outputs": [],
   "source": [
    "train = train.merge(members, on='msno', how='left')\n",
    "test = test.merge(members, on='msno', how = 'left')"
   ]
  },
  {
   "cell_type": "code",
   "execution_count": 8,
   "metadata": {},
   "outputs": [],
   "source": [
    "def ExtraCountry(s):\n",
    "    return str(s)[0:2]\n",
    "\n",
    "def isrc_to_year(isrc):\n",
    "    if type(isrc) == str:\n",
    "        if int(isrc[5:7]) > 17:\n",
    "            return 1900 + int(isrc[5:7])\n",
    "        else:\n",
    "            return 2000 + int(isrc[5:7])\n",
    "    else:\n",
    "        return np.nan\n",
    "        \n",
    "songs_extra['year'] = songs_extra['isrc'].apply(isrc_to_year)\n",
    "songs_extra['country']=songs_extra['isrc'].apply(ExtraCountry)\n",
    "songs_extra.drop(['isrc', 'name'], axis = 1, inplace = True)\n",
    "\n",
    "train = train.merge(songs_extra, on = 'song_id', how = 'left')\n",
    "test = test.merge(songs_extra, on = 'song_id', how = 'left')"
   ]
  },
  {
   "cell_type": "code",
   "execution_count": 9,
   "metadata": {
    "collapsed": true
   },
   "outputs": [],
   "source": [
    "\n",
    "def genre_id_count(x):\n",
    "    if x == 'no_genre_id':\n",
    "        return 0\n",
    "    else:\n",
    "        return x.count('|') + 1\n",
    "\n",
    "def split_genre(x):\n",
    "    l = x.split('|')\n",
    "    return l[0]\n",
    "train['genre_ids'].fillna('no_genre_id',inplace=True)\n",
    "test['genre_ids'].fillna('no_genre_id',inplace=True)\n",
    "train['genre'] = train['genre_ids'].apply(split_genre)\n",
    "test['genre'] = test['genre_ids'].apply(split_genre)\n",
    "train['genre_ids_count'] = train['genre_ids'].apply(genre_id_count).astype(np.int8)\n",
    "test['genre_ids_count'] = test['genre_ids'].apply(genre_id_count).astype(np.int8)\n",
    "train = train.drop(['genre_ids'], axis=1)\n",
    "test = test.drop(['genre_ids'], axis=1)"
   ]
  },
  {
   "cell_type": "code",
   "execution_count": 10,
   "metadata": {},
   "outputs": [
    {
     "name": "stdout",
     "output_type": "stream",
     "text": [
      "Adding new features\n"
     ]
    }
   ],
   "source": [
    "print (\"Adding new features\")\n",
    "\n",
    "def lyricist_count(x):\n",
    "    if x == 'no_lyricist':\n",
    "        return 0\n",
    "    else:\n",
    "        return sum(map(x.count, ['|', '/', '\\\\', ';'])) + 1\n",
    "    return sum(map(x.count, ['|', '/', '\\\\', ';']))\n",
    "\n",
    "train['lyricist'].fillna('no_lyricist',inplace=True)\n",
    "test['lyricist'].fillna('no_lyricist',inplace=True)\n",
    "train['lyricists_count'] = train['lyricist'].apply(lyricist_count).astype(np.int8)\n",
    "test['lyricists_count'] = test['lyricist'].apply(lyricist_count).astype(np.int8)"
   ]
  },
  {
   "cell_type": "code",
   "execution_count": 11,
   "metadata": {
    "collapsed": true
   },
   "outputs": [],
   "source": [
    "def composer_count(x):\n",
    "    if x == 'no_composer':\n",
    "        return 0\n",
    "    else:\n",
    "        return sum(map(x.count, ['|', '/', '\\\\', ';'])) + 1\n",
    "\n",
    "train['composer'].fillna('no_composer',inplace=True)\n",
    "test['composer'].fillna('no_composer',inplace=True)\n",
    "train['composer_count'] = train['composer'].apply(composer_count).astype(np.int8)\n",
    "test['composer_count'] = test['composer'].apply(composer_count).astype(np.int8)\n",
    "\n",
    "train['composer'] = train['composer'].str.split('|').str[0]\n",
    "train['composer'] = train['composer'].str.split('/').str[0]\n",
    "train['composer'] = train['composer'].str.split('\\\\').str[0]\n",
    "train['composer'] = train['composer'].str.split(';').str[0]\n",
    "\n",
    "test['composer'] = test['composer'].str.split('|').str[0]\n",
    "test['composer'] = test['composer'].str.split('/').str[0]\n",
    "test['composer'] = test['composer'].str.split('\\\\').str[0]\n",
    "test['composer'] = test['composer'].str.split(';').str[0]\n",
    "\n",
    "train['lyricist'] = train['lyricist'].str.split('|').str[0]\n",
    "train['lyricist'] = train['lyricist'].str.split('/').str[0]\n",
    "train['lyricist'] = train['lyricist'].str.split('\\\\').str[0]\n",
    "train['lyricist'] = train['lyricist'].str.split(';').str[0]\n",
    "\n",
    "test['lyricist'] = test['lyricist'].str.split('|').str[0]\n",
    "test['lyricist'] = test['lyricist'].str.split('/').str[0]\n",
    "test['lyricist'] = test['lyricist'].str.split('\\\\').str[0]\n",
    "test['lyricist'] = test['lyricist'].str.split(';').str[0]\n",
    "#print(train['composer'].categories)\n"
   ]
  },
  {
   "cell_type": "code",
   "execution_count": 12,
   "metadata": {
    "collapsed": true
   },
   "outputs": [],
   "source": [
    "#process artist count\n",
    "def artist_count(x):\n",
    "    if x == 'no_artist':\n",
    "        return 0\n",
    "    else:\n",
    "        return x.count('and') + x.count(',') + x.count('feat') + x.count('&')+x.count('|')+x.count(\"/\")+x.count(\"\\\\\")+1\n",
    "train['artist_name'].fillna('no_artist',inplace=True)\n",
    "test['artist_name'].fillna('no_artist',inplace=True)\n",
    "train['artist_count'] = train['artist_name'].apply(artist_count).astype(np.int8)\n",
    "test['artist_count'] = test['artist_name'].apply(artist_count).astype(np.int8)"
   ]
  },
  {
   "cell_type": "code",
   "execution_count": 13,
   "metadata": {
    "collapsed": true
   },
   "outputs": [],
   "source": [
    "# extract out the main artist name\n",
    "train['artist_name']=train['artist_name'].str.replace('.','')\n",
    "train['artist_name']=train['artist_name'].str.replace(' ','')\n",
    "test['artist_name']=test['artist_name'].str.replace('.','')\n",
    "test['artist_name']=test['artist_name'].str.replace(' ','')\n",
    "temp1=train['artist_name'].str.replace('[\\s+\\.\\!\\/_,$%^*(+\\\"\\']+|[+——！，。？、~@#￥%……&*（）]+','-')\n",
    "temp2=test['artist_name'].str.replace('[\\s+\\.\\!\\/_,$%^*(+\\\"\\']+|[+——！，。？、~@#￥%……&*（）]+','-')\n",
    "train['artist_name']=temp1.str.split('-',1).str[0]\n",
    "test['artist_name']=temp2.str.split('-',1).str[0]"
   ]
  },
  {
   "cell_type": "code",
   "execution_count": 14,
   "metadata": {
    "collapsed": true
   },
   "outputs": [],
   "source": [
    "# number of times a song has been played before\n",
    "_dict_count_song_played_train = {k: v for k, v in train['song_id'].value_counts().iteritems()}\n",
    "_dict_count_song_played_test = {k: v for k, v in test['song_id'].value_counts().iteritems()}\n",
    "def count_song_played(x):\n",
    "    try:\n",
    "        return _dict_count_song_played_train[x]\n",
    "    except KeyError:\n",
    "        try:\n",
    "            return _dict_count_song_played_test[x]\n",
    "        except KeyError:\n",
    "            return 0\n",
    "train['count_song_played'] = train['song_id'].apply(count_song_played).astype(np.int64)\n",
    "test['count_song_played'] = test['song_id'].apply(count_song_played).astype(np.int64)"
   ]
  },
  {
   "cell_type": "code",
   "execution_count": 15,
   "metadata": {
    "collapsed": true
   },
   "outputs": [],
   "source": [
    "# occurences of genre\n",
    "_dict_count_genre_train = {k: v for k, v in train['genre'].value_counts().iteritems()}\n",
    "_dict_count_genre_test = {k: v for k, v in test['genre'].value_counts().iteritems()}\n",
    "def count_genre(x):\n",
    "    try:\n",
    "        return _dict_count_genre_train[x]\n",
    "    except KeyError:\n",
    "        try:\n",
    "            return _dict_count_genre_test[x]\n",
    "        except KeyError:\n",
    "            return 0\n",
    "\n",
    "train['count_genre'] = train['genre'].apply(count_genre).astype(np.int64)\n",
    "test['count_genre'] = test['genre'].apply(count_genre).astype(np.int64)"
   ]
  },
  {
   "cell_type": "code",
   "execution_count": 16,
   "metadata": {
    "collapsed": true
   },
   "outputs": [],
   "source": [
    "# number of times the artist has been played\n",
    "_dict_count_artist_played_train = {k: v for k, v in train['artist_name'].value_counts().iteritems()}\n",
    "_dict_count_artist_played_test = {k: v for k, v in test['artist_name'].value_counts().iteritems()}\n",
    "def count_artist_played(x):\n",
    "    try:\n",
    "        return _dict_count_artist_played_train[x]\n",
    "    except KeyError:\n",
    "        try:\n",
    "            return _dict_count_artist_played_test[x]\n",
    "        except KeyError:\n",
    "            return 0\n",
    "\n",
    "train['count_artist_played'] = train['artist_name'].apply(count_artist_played).astype(np.int64)\n",
    "test['count_artist_played'] = test['artist_name'].apply(count_artist_played).astype(np.int64)"
   ]
  },
  {
   "cell_type": "code",
   "execution_count": 17,
   "metadata": {
    "collapsed": true
   },
   "outputs": [],
   "source": [
    "# number of times the composer has been played\n",
    "_dict_count_composer_played_train = {k: v for k, v in train['composer'].value_counts().iteritems()}\n",
    "_dict_count_composer_played_test = {k: v for k, v in test['composer'].value_counts().iteritems()}\n",
    "def count_composer_played(x):\n",
    "    try:\n",
    "        return _dict_count_composer_played_train[x]\n",
    "    except KeyError:\n",
    "        try:\n",
    "            return _dict_count_composer_played_test[x]\n",
    "        except KeyError:\n",
    "            return 0\n",
    "\n",
    "train['count_composer_played'] = train['composer'].apply(count_composer_played).astype(np.int64)\n",
    "test['count_composer_played'] = test['composer'].apply(count_composer_played).astype(np.int64)"
   ]
  },
  {
   "cell_type": "code",
   "execution_count": 18,
   "metadata": {
    "collapsed": true
   },
   "outputs": [],
   "source": [
    "# number of times the lyricist has been played\n",
    "_dict_count_lyricist_played_train = {k: v for k, v in train['lyricist'].value_counts().iteritems()}\n",
    "_dict_count_lyricist_played_test = {k: v for k, v in test['lyricist'].value_counts().iteritems()}\n",
    "def count_lyricist_played(x):\n",
    "    try:\n",
    "        return _dict_count_lyricist_played_train[x]\n",
    "    except KeyError:\n",
    "        try:\n",
    "            return _dict_count_lyricist_played_test[x]\n",
    "        except KeyError:\n",
    "            return 0\n",
    "\n",
    "train['count_lyricist_played'] = train['lyricist'].apply(count_lyricist_played).astype(np.int64)\n",
    "test['count_lyricist_played'] = test['lyricist'].apply(count_lyricist_played).astype(np.int64)"
   ]
  },
  {
   "cell_type": "code",
   "execution_count": 19,
   "metadata": {
    "collapsed": true
   },
   "outputs": [],
   "source": [
    "train['gender'] = train['gender'].fillna('na')\n",
    "train.fillna(0,inplace = True)\n",
    "test.fillna(0,inplace = True)"
   ]
  },
  {
   "cell_type": "code",
   "execution_count": 20,
   "metadata": {
    "collapsed": true
   },
   "outputs": [],
   "source": [
    "from sklearn import preprocessing\n",
    "le = preprocessing.LabelEncoder()\n",
    "train1 = train"
   ]
  },
  {
   "cell_type": "code",
   "execution_count": 21,
   "metadata": {},
   "outputs": [
    {
     "name": "stdout",
     "output_type": "stream",
     "text": [
      "msno\n",
      "gender\n",
      "artist_name\n",
      "country\n",
      "AgeClass\n",
      "genre\n",
      "source_system_tab\n",
      "source_screen_name\n",
      "source_type\n",
      "song_id\n",
      "composer\n",
      "lyricist\n"
     ]
    }
   ],
   "source": [
    "L = ['msno','gender','artist_name','country','AgeClass','genre','source_system_tab','source_screen_name','source_type','song_id','composer','lyricist']\n",
    "for x in L:\n",
    "    print(x)\n",
    "    #temp = pd.concat([train[x],test[x]], ignore_index= 'true')\n",
    "    le.fit(train1[x].tolist())\n",
    "    temp1 = le.transform(train1[x].tolist())\n",
    "    str = x+\"_dum\"\n",
    "    train1[str] = temp1\n",
    "    #test[str] = temp1[len(train[x]):len(temp1)]"
   ]
  },
  {
   "cell_type": "code",
   "execution_count": 24,
   "metadata": {
    "collapsed": true
   },
   "outputs": [],
   "source": [
    "train1 = train1.drop(L,axis=1)"
   ]
  },
  {
   "cell_type": "code",
   "execution_count": 25,
   "metadata": {
    "collapsed": true
   },
   "outputs": [],
   "source": [
    "from sklearn.model_selection import train_test_split\n",
    "X_train, X_test, Y_train, Y_test= train_test_split(train1.drop('target',axis=1), train1['target'], random_state= 0)"
   ]
  },
  {
   "cell_type": "code",
   "execution_count": 26,
   "metadata": {},
   "outputs": [
    {
     "name": "stdout",
     "output_type": "stream",
     "text": [
      "time: 175.68177700042725\n",
      "auc is  0.563759688346\n"
     ]
    }
   ],
   "source": [
    "from sklearn.linear_model import LogisticRegression\n",
    "\n",
    "start = time.time()\n",
    "model = LogisticRegression(C=100).fit(X_train,Y_train)\n",
    "print('time:',time.time() - start)\n",
    "print('auc is ',model.score(X_test,Y_test))\n"
   ]
  },
  {
   "cell_type": "code",
   "execution_count": 27,
   "metadata": {},
   "outputs": [
    {
     "name": "stdout",
     "output_type": "stream",
     "text": [
      "[[664087 251763]\n",
      " [552819 375686]]\n"
     ]
    },
    {
     "data": {
      "image/png": "[encoded data removed]",
      "text/plain": [
       "<matplotlib.figure.Figure at 0x27c3900b8>"
      ]
     },
     "metadata": {},
     "output_type": "display_data"
    }
   ],
   "source": [
    "res = model.predict(X_test)\n",
    "cm = confusion_matrix(Y_test.tolist(),res)\n",
    "print(cm)\n",
    "plt.matshow(cm)\n",
    "plt.colorbar()\n",
    "plt.show()"
   ]
  },
  {
   "cell_type": "code",
   "execution_count": 28,
   "metadata": {
    "collapsed": true
   },
   "outputs": [],
   "source": [
    "probs = model.predict_proba(X_test)\n",
    "preds = probs[:,1]\n",
    "fprlr, tprlr, threshold = roc_curve(Y_test, preds)\n",
    "roc_auclr = auc(fprlr, tprlr)"
   ]
  },
  {
   "cell_type": "code",
   "execution_count": 29,
   "metadata": {},
   "outputs": [
    {
     "name": "stdout",
     "output_type": "stream",
     "text": [
      "time: 223.46975898742676\n",
      "auc is  0.653213725123\n"
     ]
    }
   ],
   "source": [
    "from sklearn.tree import DecisionTreeClassifier\n",
    "start = time.time()\n",
    "model = DecisionTreeClassifier(max_depth=12).fit(X_train,Y_train)\n",
    "print('time:',time.time() - start)\n",
    "print('auc is ',model.score(X_test,Y_test))"
   ]
  },
  {
   "cell_type": "code",
   "execution_count": 30,
   "metadata": {},
   "outputs": [
    {
     "name": "stdout",
     "output_type": "stream",
     "text": [
      "[[546646 369204]\n",
      " [270393 658112]]\n"
     ]
    },
    {
     "data": {
      "image/png": "[encoded data removed]",
      "text/plain": [
       "<matplotlib.figure.Figure at 0x27c187588>"
      ]
     },
     "metadata": {},
     "output_type": "display_data"
    }
   ],
   "source": [
    "res = model.predict(X_test)\n",
    "cm = confusion_matrix(Y_test.tolist(),res)\n",
    "print(cm)\n",
    "plt.matshow(cm)\n",
    "plt.colorbar()\n",
    "plt.show()"
   ]
  },
  {
   "cell_type": "code",
   "execution_count": 31,
   "metadata": {
    "collapsed": true
   },
   "outputs": [],
   "source": [
    "probs = model.predict_proba(X_test)\n",
    "preds = probs[:,1]\n",
    "fprdt, tprdt, threshold = roc_curve(Y_test, preds)\n",
    "roc_aucdt = auc(fprdt, tprdt)"
   ]
  },
  {
   "cell_type": "code",
   "execution_count": 32,
   "metadata": {
    "collapsed": true
   },
   "outputs": [],
   "source": [
    "train_set = lgb.Dataset(X_train,Y_train)\n",
    "test_set = lgb.Dataset(X_test,Y_test)"
   ]
  },
  {
   "cell_type": "code",
   "execution_count": 33,
   "metadata": {},
   "outputs": [
    {
     "name": "stderr",
     "output_type": "stream",
     "text": [
      "/Users/xiejingran/anaconda/lib/python3.6/site-packages/lightgbm/engine.py:98: UserWarning: Found `num_rounds` in params. Will use it instead of argument\n",
      "  warnings.warn(\"Found `{}` in params. Will use it instead of argument\".format(alias))\n"
     ]
    },
    {
     "name": "stdout",
     "output_type": "stream",
     "text": [
      "[5]\tvalid_0's auc: 0.698057\n",
      "[10]\tvalid_0's auc: 0.703802\n",
      "[15]\tvalid_0's auc: 0.708828\n",
      "[20]\tvalid_0's auc: 0.713548\n",
      "[25]\tvalid_0's auc: 0.71714\n",
      "[30]\tvalid_0's auc: 0.720888\n",
      "[35]\tvalid_0's auc: 0.724051\n",
      "[40]\tvalid_0's auc: 0.726897\n",
      "[45]\tvalid_0's auc: 0.728848\n",
      "[50]\tvalid_0's auc: 0.730639\n",
      "[55]\tvalid_0's auc: 0.7319\n",
      "[60]\tvalid_0's auc: 0.733024\n",
      "[65]\tvalid_0's auc: 0.734883\n",
      "[70]\tvalid_0's auc: 0.73673\n",
      "[75]\tvalid_0's auc: 0.739505\n",
      "[80]\tvalid_0's auc: 0.740922\n",
      "[85]\tvalid_0's auc: 0.74194\n",
      "[90]\tvalid_0's auc: 0.74315\n",
      "[95]\tvalid_0's auc: 0.744715\n",
      "[100]\tvalid_0's auc: 0.745308\n",
      "[105]\tvalid_0's auc: 0.746235\n",
      "[110]\tvalid_0's auc: 0.747274\n",
      "[115]\tvalid_0's auc: 0.748325\n",
      "[120]\tvalid_0's auc: 0.749666\n",
      "[125]\tvalid_0's auc: 0.750725\n",
      "[130]\tvalid_0's auc: 0.751991\n",
      "[135]\tvalid_0's auc: 0.753085\n",
      "[140]\tvalid_0's auc: 0.754492\n",
      "[145]\tvalid_0's auc: 0.755603\n",
      "[150]\tvalid_0's auc: 0.756182\n",
      "134.2307231426239\n"
     ]
    }
   ],
   "source": [
    "params = {\n",
    "        'objective': 'binary',\n",
    "        'metric': 'binary_logloss',\n",
    "        'boosting': 'gbdt',\n",
    "        'learning_rate': 0.3 ,\n",
    "        'verbose': 0,\n",
    "        'num_leaves': 108,\n",
    "        'bagging_fraction': 0.95,\n",
    "        'bagging_freq': 1,\n",
    "        'bagging_seed': 1,\n",
    "        'feature_fraction': 0.9,\n",
    "        'feature_fraction_seed': 1,\n",
    "        'max_bin': 256,\n",
    "        'max_depth': 10,\n",
    "        'num_rounds': 150,\n",
    "        'metric' : 'auc',\n",
    "}\n",
    "\n",
    "start = time.time()\n",
    "model_f1 = lgb.train(params, train_set=train_set,  valid_sets=test_set, verbose_eval=5)\n",
    "print(time.time() - start)"
   ]
  },
  {
   "cell_type": "code",
   "execution_count": 34,
   "metadata": {},
   "outputs": [
    {
     "name": "stdout",
     "output_type": "stream",
     "text": [
      "[[603738 312112]\n",
      " [262795 665710]]\n"
     ]
    },
    {
     "data": {
      "image/png": "[encoded data removed]",
      "text/plain": [
       "<matplotlib.figure.Figure at 0x27c057780>"
      ]
     },
     "metadata": {},
     "output_type": "display_data"
    }
   ],
   "source": [
    "res1 = model_f1.predict(X_test)\n",
    "res= []\n",
    "for x in res1:\n",
    "    if x >= 0.5:\n",
    "        res.append(1)\n",
    "    else:\n",
    "        res.append(0)\n",
    "cm = confusion_matrix(Y_test.tolist(),res)\n",
    "print(cm)\n",
    "plt.matshow(cm)\n",
    "plt.colorbar()\n",
    "plt.show()"
   ]
  },
  {
   "cell_type": "code",
   "execution_count": 35,
   "metadata": {
    "collapsed": true
   },
   "outputs": [],
   "source": [
    "probs = model_f1.predict(X_test)\n",
    "fprdum, tprdum, threshold = roc_curve(Y_test, probs)\n",
    "roc_aucdum = auc(fprdum, tprdum)"
   ]
  },
  {
   "cell_type": "code",
   "execution_count": 47,
   "metadata": {
    "collapsed": true
   },
   "outputs": [],
   "source": [
    "L = ['msno','gender','artist_name','country','AgeClass','genre','source_system_tab','source_screen_name','source_type','song_id','composer','lyricist']\n",
    "for x in L:\n",
    "    str = x+\"_dum\"\n",
    "    train = train.drop(str,axis=1)\n",
    "for col in train.columns:\n",
    "    if train[col].dtype == object:\n",
    "        train[col] = train[col].astype('category')\n",
    "from sklearn.model_selection import train_test_split\n",
    "X_train, X_test, Y_train, Y_test= train_test_split(train.drop('target',axis=1), train['target'], random_state= 0)\n",
    "train_set = lgb.Dataset(X_train,Y_train)\n",
    "test_set = lgb.Dataset(X_test,Y_test)"
   ]
  },
  {
   "cell_type": "code",
   "execution_count": 49,
   "metadata": {},
   "outputs": [
    {
     "name": "stderr",
     "output_type": "stream",
     "text": [
      "/Users/xiejingran/anaconda/lib/python3.6/site-packages/lightgbm/engine.py:98: UserWarning: Found `num_rounds` in params. Will use it instead of argument\n",
      "  warnings.warn(\"Found `{}` in params. Will use it instead of argument\".format(alias))\n"
     ]
    },
    {
     "name": "stdout",
     "output_type": "stream",
     "text": [
      "[5]\tvalid_0's auc: 0.728347\n",
      "[10]\tvalid_0's auc: 0.740516\n",
      "[15]\tvalid_0's auc: 0.74595\n",
      "[20]\tvalid_0's auc: 0.750144\n",
      "[25]\tvalid_0's auc: 0.753589\n",
      "[30]\tvalid_0's auc: 0.756437\n",
      "[35]\tvalid_0's auc: 0.759005\n",
      "[40]\tvalid_0's auc: 0.761305\n",
      "[45]\tvalid_0's auc: 0.763309\n",
      "[50]\tvalid_0's auc: 0.764953\n",
      "[55]\tvalid_0's auc: 0.766608\n",
      "[60]\tvalid_0's auc: 0.768104\n",
      "[65]\tvalid_0's auc: 0.769604\n",
      "[70]\tvalid_0's auc: 0.770926\n",
      "[75]\tvalid_0's auc: 0.772066\n",
      "[80]\tvalid_0's auc: 0.773506\n",
      "[85]\tvalid_0's auc: 0.774681\n",
      "[90]\tvalid_0's auc: 0.775703\n",
      "[95]\tvalid_0's auc: 0.776579\n",
      "[100]\tvalid_0's auc: 0.777391\n",
      "[105]\tvalid_0's auc: 0.778455\n",
      "[110]\tvalid_0's auc: 0.779002\n",
      "[115]\tvalid_0's auc: 0.779623\n",
      "[120]\tvalid_0's auc: 0.780221\n",
      "[125]\tvalid_0's auc: 0.780936\n",
      "[130]\tvalid_0's auc: 0.781572\n",
      "[135]\tvalid_0's auc: 0.78238\n",
      "[140]\tvalid_0's auc: 0.782947\n",
      "[145]\tvalid_0's auc: 0.783481\n",
      "[150]\tvalid_0's auc: 0.784131\n",
      "122.07114219665527\n"
     ]
    }
   ],
   "source": [
    "params = {\n",
    "        'objective': 'binary',\n",
    "        'metric': 'binary_logloss',\n",
    "        'boosting': 'gbdt',\n",
    "        'learning_rate': 0.3 ,\n",
    "        'verbose': 0,\n",
    "        'num_leaves': 108,\n",
    "        'bagging_fraction': 0.95,\n",
    "        'bagging_freq': 1,\n",
    "        'bagging_seed': 1,\n",
    "        'feature_fraction': 0.9,\n",
    "        'feature_fraction_seed': 1,\n",
    "        'max_bin': 256,\n",
    "        'max_depth': 10,\n",
    "        'num_rounds': 150,\n",
    "        'metric' : 'auc',\n",
    "}\n",
    "\n",
    "start = time.time()\n",
    "model_f1 = lgb.train(params, train_set=train_set,  valid_sets=test_set, verbose_eval=5)\n",
    "print(time.time() - start)"
   ]
  },
  {
   "cell_type": "code",
   "execution_count": 50,
   "metadata": {},
   "outputs": [
    {
     "name": "stdout",
     "output_type": "stream",
     "text": [
      "[[637682 278168]\n",
      " [256914 671591]]\n"
     ]
    },
    {
     "data": {
      "image/png": "[encoded data removed]",
      "text/plain": [
       "<matplotlib.figure.Figure at 0x12922f438>"
      ]
     },
     "metadata": {},
     "output_type": "display_data"
    }
   ],
   "source": [
    "res1 = model_f1.predict(X_test)\n",
    "#print(res1)\n",
    "res= []\n",
    "for x in res1:\n",
    "    if x >= 0.5:\n",
    "        res.append(1)\n",
    "    else:\n",
    "        res.append(0)\n",
    "cm = confusion_matrix(Y_test.tolist(),res)\n",
    "print(cm)\n",
    "plt.matshow(cm)\n",
    "plt.colorbar()\n",
    "plt.show()"
   ]
  },
  {
   "cell_type": "code",
   "execution_count": 52,
   "metadata": {
    "collapsed": true
   },
   "outputs": [],
   "source": [
    "probs = model_f1.predict(X_test)\n",
    "fprnodum, tprnodum, threshold = roc_curve(Y_test, probs)\n",
    "roc_aucnodum = auc(fprnodum, tprnodum)"
   ]
  },
  {
   "cell_type": "code",
   "execution_count": 51,
   "metadata": {},
   "outputs": [
    {
     "data": {
      "text/html": [
       "<div>\n",
       "<style>\n",
       "    .dataframe thead tr:only-child th {\n",
       "        text-align: right;\n",
       "    }\n",
       "\n",
       "    .dataframe thead th {\n",
       "        text-align: left;\n",
       "    }\n",
       "\n",
       "    .dataframe tbody tr th {\n",
       "        vertical-align: top;\n",
       "    }\n",
       "</style>\n",
       "<table border=\"1\" class=\"dataframe\">\n",
       "  <thead>\n",
       "    <tr style=\"text-align: right;\">\n",
       "      <th></th>\n",
       "      <th>feature</th>\n",
       "      <th>gain</th>\n",
       "      <th>split</th>\n",
       "    </tr>\n",
       "  </thead>\n",
       "  <tbody>\n",
       "    <tr>\n",
       "      <th>0</th>\n",
       "      <td>msno</td>\n",
       "      <td>42.113757</td>\n",
       "      <td>1687</td>\n",
       "    </tr>\n",
       "    <tr>\n",
       "      <th>4</th>\n",
       "      <td>source_type</td>\n",
       "      <td>20.063301</td>\n",
       "      <td>491</td>\n",
       "    </tr>\n",
       "    <tr>\n",
       "      <th>29</th>\n",
       "      <td>count_song_played</td>\n",
       "      <td>9.760802</td>\n",
       "      <td>1447</td>\n",
       "    </tr>\n",
       "    <tr>\n",
       "      <th>6</th>\n",
       "      <td>artist_name</td>\n",
       "      <td>7.137370</td>\n",
       "      <td>2385</td>\n",
       "    </tr>\n",
       "    <tr>\n",
       "      <th>3</th>\n",
       "      <td>source_screen_name</td>\n",
       "      <td>5.203438</td>\n",
       "      <td>875</td>\n",
       "    </tr>\n",
       "    <tr>\n",
       "      <th>1</th>\n",
       "      <td>song_id</td>\n",
       "      <td>5.081320</td>\n",
       "      <td>382</td>\n",
       "    </tr>\n",
       "    <tr>\n",
       "      <th>2</th>\n",
       "      <td>source_system_tab</td>\n",
       "      <td>2.398393</td>\n",
       "      <td>121</td>\n",
       "    </tr>\n",
       "    <tr>\n",
       "      <th>31</th>\n",
       "      <td>count_artist_played</td>\n",
       "      <td>1.407043</td>\n",
       "      <td>1132</td>\n",
       "    </tr>\n",
       "    <tr>\n",
       "      <th>16</th>\n",
       "      <td>membership_days</td>\n",
       "      <td>1.236467</td>\n",
       "      <td>756</td>\n",
       "    </tr>\n",
       "    <tr>\n",
       "      <th>7</th>\n",
       "      <td>composer</td>\n",
       "      <td>0.999871</td>\n",
       "      <td>436</td>\n",
       "    </tr>\n",
       "    <tr>\n",
       "      <th>20</th>\n",
       "      <td>expiration_year</td>\n",
       "      <td>0.917632</td>\n",
       "      <td>79</td>\n",
       "    </tr>\n",
       "    <tr>\n",
       "      <th>24</th>\n",
       "      <td>genre</td>\n",
       "      <td>0.356097</td>\n",
       "      <td>281</td>\n",
       "    </tr>\n",
       "    <tr>\n",
       "      <th>8</th>\n",
       "      <td>lyricist</td>\n",
       "      <td>0.343717</td>\n",
       "      <td>230</td>\n",
       "    </tr>\n",
       "    <tr>\n",
       "      <th>14</th>\n",
       "      <td>expiration_date</td>\n",
       "      <td>0.319971</td>\n",
       "      <td>665</td>\n",
       "    </tr>\n",
       "    <tr>\n",
       "      <th>19</th>\n",
       "      <td>registration_date</td>\n",
       "      <td>0.306392</td>\n",
       "      <td>643</td>\n",
       "    </tr>\n",
       "    <tr>\n",
       "      <th>22</th>\n",
       "      <td>year</td>\n",
       "      <td>0.301408</td>\n",
       "      <td>567</td>\n",
       "    </tr>\n",
       "    <tr>\n",
       "      <th>21</th>\n",
       "      <td>expiration_month</td>\n",
       "      <td>0.259762</td>\n",
       "      <td>278</td>\n",
       "    </tr>\n",
       "    <tr>\n",
       "      <th>10</th>\n",
       "      <td>city</td>\n",
       "      <td>0.221972</td>\n",
       "      <td>350</td>\n",
       "    </tr>\n",
       "    <tr>\n",
       "      <th>11</th>\n",
       "      <td>bd</td>\n",
       "      <td>0.218783</td>\n",
       "      <td>405</td>\n",
       "    </tr>\n",
       "    <tr>\n",
       "      <th>18</th>\n",
       "      <td>registration_month</td>\n",
       "      <td>0.214528</td>\n",
       "      <td>448</td>\n",
       "    </tr>\n",
       "    <tr>\n",
       "      <th>32</th>\n",
       "      <td>count_composer_played</td>\n",
       "      <td>0.153855</td>\n",
       "      <td>401</td>\n",
       "    </tr>\n",
       "    <tr>\n",
       "      <th>9</th>\n",
       "      <td>language</td>\n",
       "      <td>0.146164</td>\n",
       "      <td>304</td>\n",
       "    </tr>\n",
       "    <tr>\n",
       "      <th>30</th>\n",
       "      <td>count_genre</td>\n",
       "      <td>0.143345</td>\n",
       "      <td>335</td>\n",
       "    </tr>\n",
       "    <tr>\n",
       "      <th>13</th>\n",
       "      <td>registered_via</td>\n",
       "      <td>0.124199</td>\n",
       "      <td>196</td>\n",
       "    </tr>\n",
       "    <tr>\n",
       "      <th>5</th>\n",
       "      <td>song_length</td>\n",
       "      <td>0.116266</td>\n",
       "      <td>347</td>\n",
       "    </tr>\n",
       "    <tr>\n",
       "      <th>23</th>\n",
       "      <td>country</td>\n",
       "      <td>0.098776</td>\n",
       "      <td>106</td>\n",
       "    </tr>\n",
       "    <tr>\n",
       "      <th>12</th>\n",
       "      <td>gender</td>\n",
       "      <td>0.085521</td>\n",
       "      <td>178</td>\n",
       "    </tr>\n",
       "    <tr>\n",
       "      <th>33</th>\n",
       "      <td>count_lyricist_played</td>\n",
       "      <td>0.084754</td>\n",
       "      <td>243</td>\n",
       "    </tr>\n",
       "    <tr>\n",
       "      <th>15</th>\n",
       "      <td>AgeClass</td>\n",
       "      <td>0.069163</td>\n",
       "      <td>17</td>\n",
       "    </tr>\n",
       "    <tr>\n",
       "      <th>17</th>\n",
       "      <td>registration_year</td>\n",
       "      <td>0.056046</td>\n",
       "      <td>123</td>\n",
       "    </tr>\n",
       "    <tr>\n",
       "      <th>27</th>\n",
       "      <td>composer_count</td>\n",
       "      <td>0.021336</td>\n",
       "      <td>60</td>\n",
       "    </tr>\n",
       "    <tr>\n",
       "      <th>25</th>\n",
       "      <td>genre_ids_count</td>\n",
       "      <td>0.013818</td>\n",
       "      <td>30</td>\n",
       "    </tr>\n",
       "    <tr>\n",
       "      <th>28</th>\n",
       "      <td>artist_count</td>\n",
       "      <td>0.013001</td>\n",
       "      <td>15</td>\n",
       "    </tr>\n",
       "    <tr>\n",
       "      <th>26</th>\n",
       "      <td>lyricists_count</td>\n",
       "      <td>0.011735</td>\n",
       "      <td>37</td>\n",
       "    </tr>\n",
       "  </tbody>\n",
       "</table>\n",
       "</div>"
      ],
      "text/plain": [
       "                  feature       gain  split\n",
       "0                    msno  42.113757   1687\n",
       "4             source_type  20.063301    491\n",
       "29      count_song_played   9.760802   1447\n",
       "6             artist_name   7.137370   2385\n",
       "3      source_screen_name   5.203438    875\n",
       "1                 song_id   5.081320    382\n",
       "2       source_system_tab   2.398393    121\n",
       "31    count_artist_played   1.407043   1132\n",
       "16        membership_days   1.236467    756\n",
       "7                composer   0.999871    436\n",
       "20        expiration_year   0.917632     79\n",
       "24                  genre   0.356097    281\n",
       "8                lyricist   0.343717    230\n",
       "14        expiration_date   0.319971    665\n",
       "19      registration_date   0.306392    643\n",
       "22                   year   0.301408    567\n",
       "21       expiration_month   0.259762    278\n",
       "10                   city   0.221972    350\n",
       "11                     bd   0.218783    405\n",
       "18     registration_month   0.214528    448\n",
       "32  count_composer_played   0.153855    401\n",
       "9                language   0.146164    304\n",
       "30            count_genre   0.143345    335\n",
       "13         registered_via   0.124199    196\n",
       "5             song_length   0.116266    347\n",
       "23                country   0.098776    106\n",
       "12                 gender   0.085521    178\n",
       "33  count_lyricist_played   0.084754    243\n",
       "15               AgeClass   0.069163     17\n",
       "17      registration_year   0.056046    123\n",
       "27         composer_count   0.021336     60\n",
       "25        genre_ids_count   0.013818     30\n",
       "28           artist_count   0.013001     15\n",
       "26        lyricists_count   0.011735     37"
      ]
     },
     "execution_count": 51,
     "metadata": {},
     "output_type": "execute_result"
    }
   ],
   "source": [
    "gain = model_f1.feature_importance(\"gain\")\n",
    "ft = pd.DataFrame({'feature':model_f1.feature_name(), 'split':model_f1.feature_importance('split'), 'gain':100 * gain / gain.sum()}).sort_values('gain', ascending=False)\n",
    "ft"
   ]
  },
  {
   "cell_type": "code",
   "execution_count": 54,
   "metadata": {},
   "outputs": [],
   "source": [
    "\n",
    "L=['gender','smaller_song','artist_composer_lyricist','artist_composer','artist_count','genre_ids_count','lyricists_count','composer_count']\n",
    "train2 = train.drop(L,axis = 1)\n",
    "for col in train2.columns:\n",
    "    if train2[col].dtype == object:\n",
    "        train2[col] = train2[col].astype('category')\n",
    "X_train, X_test, Y_train, Y_test= train_test_split(train2.drop('target',axis=1), train2['target'], random_state= 0)\n",
    "train_set = lgb.Dataset(X_train,Y_train)\n",
    "test_set = lgb.Dataset(X_test,Y_test)"
   ]
  },
  {
   "cell_type": "code",
   "execution_count": 55,
   "metadata": {},
   "outputs": [
    {
     "name": "stderr",
     "output_type": "stream",
     "text": [
      "/Users/xiejingran/anaconda/lib/python3.6/site-packages/lightgbm/engine.py:98: UserWarning: Found `num_rounds` in params. Will use it instead of argument\n",
      "  warnings.warn(\"Found `{}` in params. Will use it instead of argument\".format(alias))\n"
     ]
    },
    {
     "name": "stdout",
     "output_type": "stream",
     "text": [
      "[5]\tvalid_0's auc: 0.730502\n",
      "[10]\tvalid_0's auc: 0.742787\n",
      "[15]\tvalid_0's auc: 0.749361\n",
      "[20]\tvalid_0's auc: 0.752914\n",
      "[25]\tvalid_0's auc: 0.756203\n",
      "[30]\tvalid_0's auc: 0.758601\n",
      "[35]\tvalid_0's auc: 0.761154\n",
      "[40]\tvalid_0's auc: 0.763452\n",
      "[45]\tvalid_0's auc: 0.765409\n",
      "[50]\tvalid_0's auc: 0.767117\n",
      "[55]\tvalid_0's auc: 0.76862\n",
      "[60]\tvalid_0's auc: 0.769736\n",
      "[65]\tvalid_0's auc: 0.771126\n",
      "[70]\tvalid_0's auc: 0.772285\n",
      "[75]\tvalid_0's auc: 0.773341\n",
      "[80]\tvalid_0's auc: 0.774097\n",
      "[85]\tvalid_0's auc: 0.77518\n",
      "[90]\tvalid_0's auc: 0.776169\n",
      "[95]\tvalid_0's auc: 0.777164\n",
      "[100]\tvalid_0's auc: 0.778496\n",
      "[105]\tvalid_0's auc: 0.779527\n",
      "[110]\tvalid_0's auc: 0.78057\n",
      "[115]\tvalid_0's auc: 0.78126\n",
      "[120]\tvalid_0's auc: 0.781909\n",
      "[125]\tvalid_0's auc: 0.782555\n",
      "[130]\tvalid_0's auc: 0.783361\n",
      "[135]\tvalid_0's auc: 0.78412\n",
      "[140]\tvalid_0's auc: 0.784788\n",
      "[145]\tvalid_0's auc: 0.785295\n",
      "[150]\tvalid_0's auc: 0.785658\n",
      "123.36552214622498\n"
     ]
    }
   ],
   "source": [
    "params = {\n",
    "        'objective': 'binary',\n",
    "        'metric': 'binary_logloss',\n",
    "        'boosting': 'gbdt',\n",
    "        'learning_rate': 0.3 ,\n",
    "        'verbose': 0,\n",
    "        'num_leaves': 108,\n",
    "        'bagging_fraction': 0.95,\n",
    "        'bagging_freq': 1,\n",
    "        'bagging_seed': 1,\n",
    "        'feature_fraction': 0.9,\n",
    "        'feature_fraction_seed': 1,\n",
    "        'max_bin': 256,\n",
    "        'max_depth': 10,\n",
    "        'num_rounds': 150,\n",
    "        'metric' : 'auc',\n",
    "}\n",
    "    \n",
    "start = time.time()\n",
    "model_f1 = lgb.train(params, train_set=train_set,  valid_sets=test_set, verbose_eval=5)\n",
    "print(time.time() - start)"
   ]
  },
  {
   "cell_type": "code",
   "execution_count": 56,
   "metadata": {},
   "outputs": [
    {
     "name": "stdout",
     "output_type": "stream",
     "text": [
      "[[638696 277154]\n",
      " [255310 673195]]\n"
     ]
    },
    {
     "data": {
      "image/png": "[encoded data removed]",
      "text/plain": [
       "<matplotlib.figure.Figure at 0x12800e1d0>"
      ]
     },
     "metadata": {},
     "output_type": "display_data"
    }
   ],
   "source": [
    "res1 = model_f1.predict(X_test)\n",
    "#print(res1)\n",
    "res= []\n",
    "for x in res1:\n",
    "    if x >= 0.5:\n",
    "        res.append(1)\n",
    "    else:\n",
    "        res.append(0)\n",
    "cm = confusion_matrix(Y_test.tolist(),res)\n",
    "print(cm)\n",
    "plt.matshow(cm)\n",
    "plt.colorbar()\n",
    "plt.show()"
   ]
  },
  {
   "cell_type": "code",
   "execution_count": 57,
   "metadata": {
    "collapsed": true
   },
   "outputs": [],
   "source": [
    "probs = model_f1.predict(X_test)\n",
    "fprb, tprb, threshold = roc_curve(Y_test, probs)\n",
    "roc_aucb = auc(fprb, tprb)"
   ]
  },
  {
   "cell_type": "code",
   "execution_count": 58,
   "metadata": {},
   "outputs": [
    {
     "data": {
      "image/png": "[encoded data removed]",
      "text/plain": [
       "<matplotlib.figure.Figure at 0x1291c3eb8>"
      ]
     },
     "metadata": {},
     "output_type": "display_data"
    }
   ],
   "source": [
    "import matplotlib.pyplot as plt\n",
    "plt.title('ROC')\n",
    "plt.plot(fprdt, tprdt, 'b', color = 'red' , label = 'Decision Tree AUC = %0.2f' % roc_aucdt)\n",
    "plt.plot(fprlr, tprlr, 'b', color = 'green', label = 'Logsitic Regression AUC = %0.2f' % roc_auclr)\n",
    "plt.plot(fprdum, tprdum , 'b', color = 'blue', label = 'Lgbm dum AUC = %0.2f' % roc_aucdum)\n",
    "plt.plot(fprnodum, tprnodum , 'b', color = 'black', label = 'Lgbm autodum AUC = %0.2f' % roc_aucnodum)\n",
    "plt.legend(loc = 'lower right')\n",
    "plt.plot([0, 1], [0, 1],'r--')\n",
    "plt.xlim([0, 1])\n",
    "plt.ylim([0, 1])\n",
    "plt.ylabel('True Positive Rate')\n",
    "plt.xlabel('False Positive Rate')\n",
    "plt.show()"
   ]
  },
  {
   "cell_type": "code",
   "execution_count": null,
   "metadata": {
    "collapsed": true
   },
   "outputs": [],
   "source": []
  }
 ],
 "metadata": {
  "kernelspec": {
   "display_name": "Python 3",
   "language": "python",
   "name": "python3"
  },
  "language_info": {
   "codemirror_mode": {
    "name": "ipython",
    "version": 3
   },
   "file_extension": ".py",
   "mimetype": "text/x-python",
   "name": "python",
   "nbconvert_exporter": "python",
   "pygments_lexer": "ipython3",
   "version": "3.6.1"
  }
 },
 "nbformat": 4,
 "nbformat_minor": 2
}
